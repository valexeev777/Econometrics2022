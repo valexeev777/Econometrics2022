{
 "cells": [
  {
   "cell_type": "markdown",
   "id": "9b589b87-6186-463e-a1aa-70e319a1cf4b",
   "metadata": {},
   "source": [
    "# The Poisson Regression Model\n",
    "\n",
    "A step-by-step tutorial on how to create a Poisson regression model in Python using the GLM class of `statsmodels`, and how to train it on a real world data set.\n",
    "<img src=\"../figs/nyc_bb_bicyclist_counts0a.png\" alt=\"Alt text that describes the graphic\" title=\"Python data types\" style=\"width: 600px;\"/><img src=\"../figs/nyc_bb_bicyclist_counts0b.png\" alt=\"Alt text that describes the graphic\" title=\"Python data types\" style=\"width: 600px;\"/>\n",
    "\n",
    "\n",
    "Our goal is to build a Poisson regression model for the observed bicyclist counts y. We will use the trained model to predict daily counts of bicyclists on the Brooklyn bridge that the model has not seen during training.\n",
    "\n",
    "\n",
    "<img src=\"../figs/nyc_bb_bicyclist_counts.png\" alt=\"Alt text that describes the graphic\" title=\"Python data types\" style=\"width: 600px;\"/> <img src=\"../figs/nyc_bb_bicyclist_counts2.png\" alt=\"Alt text that describes the graphic\" title=\"Python data types\" style=\"width: 600px;\"/>\n",
    "\n",
    "\n",
    "## Summary of steps for performing Poisson Regression\n",
    "In summary, here are the steps for performing a Poisson Regression on a count based data set:\n",
    "1. First, make sure that your data set contains counts. One way to tell is that it contains only non-negative integer values that represent the number of occurrences of some event during some interval. In the bicyclist counts data set, it is the count of bicyclists crossing the Brooklyn bridge per day.\n",
    "2. Find out (or guess) the regression variables that will influence the observed counts. In the bicyclist counts data set the regression variables are *Day of Week*, *Min Temp*, *Max Temp*, *Precipitation* etc.\n",
    "3. Carve out a training data set that your regression model will train on, and a test data set that should keep aside. Do not train the model on the test data.\n",
    "4. Use a suitable statistical software such as the Python `statsmodels` package to configure and fit the Poisson Regression model on the training data set.\n",
    "5. Test the performance of the model by running it on the test data set so as to generate predicted counts. Compare them with the actual counts in the test data set.\n",
    "6. Use a goodness-of-fit measure to determine how well your model has trained on the training data set."
   ]
  },
  {
   "cell_type": "code",
   "execution_count": 1,
   "id": "053218ce-bb71-43d2-a2d0-46ab6a4378fc",
   "metadata": {},
   "outputs": [],
   "source": [
    "import pandas as pd\n",
    "from patsy import dmatrices\n",
    "import numpy as np\n",
    "import statsmodels.api as sm\n",
    "import matplotlib.pyplot as plt"
   ]
  },
  {
   "cell_type": "code",
   "execution_count": 3,
   "id": "1613c22f-c067-4e09-bec4-1d30bae5df2f",
   "metadata": {},
   "outputs": [
    {
     "data": {
      "text/html": [
       "<div><div id=851e4798-d0dd-4b67-8425-09af3420662d style=\"display:none; background-color:#9D6CFF; color:white; width:200px; height:30px; padding-left:5px; border-radius:4px; flex-direction:row; justify-content:space-around; align-items:center;\" onmouseover=\"this.style.backgroundColor='#BA9BF8'\" onmouseout=\"this.style.backgroundColor='#9D6CFF'\" onclick=\"window.commands?.execute('create-mitosheet-from-dataframe-output');\">See Full Dataframe in Mito</div> <script> if (window.commands.hasCommand('create-mitosheet-from-dataframe-output')) document.getElementById('851e4798-d0dd-4b67-8425-09af3420662d').style.display = 'flex' </script> <table border=\"1\" class=\"dataframe\">\n",
       "  <thead>\n",
       "    <tr style=\"text-align: right;\">\n",
       "      <th></th>\n",
       "      <th>HIGH_T</th>\n",
       "      <th>LOW_T</th>\n",
       "      <th>PRECIP</th>\n",
       "      <th>BB_COUNT</th>\n",
       "    </tr>\n",
       "    <tr>\n",
       "      <th>Date</th>\n",
       "      <th></th>\n",
       "      <th></th>\n",
       "      <th></th>\n",
       "      <th></th>\n",
       "    </tr>\n",
       "  </thead>\n",
       "  <tbody>\n",
       "    <tr>\n",
       "      <th>2017-04-01</th>\n",
       "      <td>46.0</td>\n",
       "      <td>37.0</td>\n",
       "      <td>0.00</td>\n",
       "      <td>606</td>\n",
       "    </tr>\n",
       "    <tr>\n",
       "      <th>2017-04-02</th>\n",
       "      <td>62.1</td>\n",
       "      <td>41.0</td>\n",
       "      <td>0.00</td>\n",
       "      <td>2021</td>\n",
       "    </tr>\n",
       "    <tr>\n",
       "      <th>2017-04-03</th>\n",
       "      <td>63.0</td>\n",
       "      <td>50.0</td>\n",
       "      <td>0.03</td>\n",
       "      <td>2470</td>\n",
       "    </tr>\n",
       "    <tr>\n",
       "      <th>2017-04-04</th>\n",
       "      <td>51.1</td>\n",
       "      <td>46.0</td>\n",
       "      <td>1.18</td>\n",
       "      <td>723</td>\n",
       "    </tr>\n",
       "    <tr>\n",
       "      <th>2017-04-05</th>\n",
       "      <td>63.0</td>\n",
       "      <td>46.0</td>\n",
       "      <td>0.00</td>\n",
       "      <td>2807</td>\n",
       "    </tr>\n",
       "    <tr>\n",
       "      <th>...</th>\n",
       "      <td>...</td>\n",
       "      <td>...</td>\n",
       "      <td>...</td>\n",
       "      <td>...</td>\n",
       "    </tr>\n",
       "    <tr>\n",
       "      <th>2017-10-27</th>\n",
       "      <td>62.1</td>\n",
       "      <td>48.0</td>\n",
       "      <td>0.00</td>\n",
       "      <td>3150</td>\n",
       "    </tr>\n",
       "    <tr>\n",
       "      <th>2017-10-28</th>\n",
       "      <td>68.0</td>\n",
       "      <td>55.9</td>\n",
       "      <td>0.00</td>\n",
       "      <td>2245</td>\n",
       "    </tr>\n",
       "    <tr>\n",
       "      <th>2017-10-29</th>\n",
       "      <td>64.9</td>\n",
       "      <td>61.0</td>\n",
       "      <td>3.03</td>\n",
       "      <td>183</td>\n",
       "    </tr>\n",
       "    <tr>\n",
       "      <th>2017-10-30</th>\n",
       "      <td>55.0</td>\n",
       "      <td>46.0</td>\n",
       "      <td>0.25</td>\n",
       "      <td>1428</td>\n",
       "    </tr>\n",
       "    <tr>\n",
       "      <th>2017-10-31</th>\n",
       "      <td>54.0</td>\n",
       "      <td>44.0</td>\n",
       "      <td>0.00</td>\n",
       "      <td>2727</td>\n",
       "    </tr>\n",
       "  </tbody>\n",
       "</table></div>"
      ],
      "text/plain": [
       "            HIGH_T  LOW_T  PRECIP  BB_COUNT\n",
       "Date                                       \n",
       "2017-04-01    46.0   37.0    0.00       606\n",
       "2017-04-02    62.1   41.0    0.00      2021\n",
       "2017-04-03    63.0   50.0    0.03      2470\n",
       "2017-04-04    51.1   46.0    1.18       723\n",
       "2017-04-05    63.0   46.0    0.00      2807\n",
       "...            ...    ...     ...       ...\n",
       "2017-10-27    62.1   48.0    0.00      3150\n",
       "2017-10-28    68.0   55.9    0.00      2245\n",
       "2017-10-29    64.9   61.0    3.03       183\n",
       "2017-10-30    55.0   46.0    0.25      1428\n",
       "2017-10-31    54.0   44.0    0.00      2727\n",
       "\n",
       "[214 rows x 4 columns]"
      ]
     },
     "execution_count": 3,
     "metadata": {},
     "output_type": "execute_result"
    }
   ],
   "source": [
    "df = pd.read_csv('../data/nyc_bb_bicyclist_counts.csv', header=0, infer_datetime_format=True, parse_dates=[0], index_col=[0])\n",
    "df"
   ]
  },
  {
   "cell_type": "markdown",
   "id": "b5d68608-b744-46f2-9bf8-836b050258d0",
   "metadata": {},
   "source": [
    "Add a few derived regression variables to the $X$ matrix:"
   ]
  },
  {
   "cell_type": "code",
   "execution_count": 4,
   "id": "345162e2-930d-4de0-a986-81161b04c053",
   "metadata": {},
   "outputs": [
    {
     "data": {
      "text/html": [
       "<div><div id=b9494f24-9a34-4ce5-afb4-a7fedbc1b065 style=\"display:none; background-color:#9D6CFF; color:white; width:200px; height:30px; padding-left:5px; border-radius:4px; flex-direction:row; justify-content:space-around; align-items:center;\" onmouseover=\"this.style.backgroundColor='#BA9BF8'\" onmouseout=\"this.style.backgroundColor='#9D6CFF'\" onclick=\"window.commands?.execute('create-mitosheet-from-dataframe-output');\">See Full Dataframe in Mito</div> <script> if (window.commands.hasCommand('create-mitosheet-from-dataframe-output')) document.getElementById('b9494f24-9a34-4ce5-afb4-a7fedbc1b065').style.display = 'flex' </script> <table border=\"1\" class=\"dataframe\">\n",
       "  <thead>\n",
       "    <tr style=\"text-align: right;\">\n",
       "      <th></th>\n",
       "      <th>HIGH_T</th>\n",
       "      <th>LOW_T</th>\n",
       "      <th>PRECIP</th>\n",
       "      <th>BB_COUNT</th>\n",
       "      <th>MONTH</th>\n",
       "      <th>DAY_OF_WEEK</th>\n",
       "      <th>DAY</th>\n",
       "    </tr>\n",
       "    <tr>\n",
       "      <th>Date</th>\n",
       "      <th></th>\n",
       "      <th></th>\n",
       "      <th></th>\n",
       "      <th></th>\n",
       "      <th></th>\n",
       "      <th></th>\n",
       "      <th></th>\n",
       "    </tr>\n",
       "  </thead>\n",
       "  <tbody>\n",
       "    <tr>\n",
       "      <th>2017-04-01</th>\n",
       "      <td>46.0</td>\n",
       "      <td>37.0</td>\n",
       "      <td>0.00</td>\n",
       "      <td>606</td>\n",
       "      <td>4</td>\n",
       "      <td>5</td>\n",
       "      <td>1</td>\n",
       "    </tr>\n",
       "    <tr>\n",
       "      <th>2017-04-02</th>\n",
       "      <td>62.1</td>\n",
       "      <td>41.0</td>\n",
       "      <td>0.00</td>\n",
       "      <td>2021</td>\n",
       "      <td>4</td>\n",
       "      <td>6</td>\n",
       "      <td>2</td>\n",
       "    </tr>\n",
       "    <tr>\n",
       "      <th>2017-04-03</th>\n",
       "      <td>63.0</td>\n",
       "      <td>50.0</td>\n",
       "      <td>0.03</td>\n",
       "      <td>2470</td>\n",
       "      <td>4</td>\n",
       "      <td>0</td>\n",
       "      <td>3</td>\n",
       "    </tr>\n",
       "    <tr>\n",
       "      <th>2017-04-04</th>\n",
       "      <td>51.1</td>\n",
       "      <td>46.0</td>\n",
       "      <td>1.18</td>\n",
       "      <td>723</td>\n",
       "      <td>4</td>\n",
       "      <td>1</td>\n",
       "      <td>4</td>\n",
       "    </tr>\n",
       "    <tr>\n",
       "      <th>2017-04-05</th>\n",
       "      <td>63.0</td>\n",
       "      <td>46.0</td>\n",
       "      <td>0.00</td>\n",
       "      <td>2807</td>\n",
       "      <td>4</td>\n",
       "      <td>2</td>\n",
       "      <td>5</td>\n",
       "    </tr>\n",
       "    <tr>\n",
       "      <th>...</th>\n",
       "      <td>...</td>\n",
       "      <td>...</td>\n",
       "      <td>...</td>\n",
       "      <td>...</td>\n",
       "      <td>...</td>\n",
       "      <td>...</td>\n",
       "      <td>...</td>\n",
       "    </tr>\n",
       "    <tr>\n",
       "      <th>2017-10-27</th>\n",
       "      <td>62.1</td>\n",
       "      <td>48.0</td>\n",
       "      <td>0.00</td>\n",
       "      <td>3150</td>\n",
       "      <td>10</td>\n",
       "      <td>4</td>\n",
       "      <td>27</td>\n",
       "    </tr>\n",
       "    <tr>\n",
       "      <th>2017-10-28</th>\n",
       "      <td>68.0</td>\n",
       "      <td>55.9</td>\n",
       "      <td>0.00</td>\n",
       "      <td>2245</td>\n",
       "      <td>10</td>\n",
       "      <td>5</td>\n",
       "      <td>28</td>\n",
       "    </tr>\n",
       "    <tr>\n",
       "      <th>2017-10-29</th>\n",
       "      <td>64.9</td>\n",
       "      <td>61.0</td>\n",
       "      <td>3.03</td>\n",
       "      <td>183</td>\n",
       "      <td>10</td>\n",
       "      <td>6</td>\n",
       "      <td>29</td>\n",
       "    </tr>\n",
       "    <tr>\n",
       "      <th>2017-10-30</th>\n",
       "      <td>55.0</td>\n",
       "      <td>46.0</td>\n",
       "      <td>0.25</td>\n",
       "      <td>1428</td>\n",
       "      <td>10</td>\n",
       "      <td>0</td>\n",
       "      <td>30</td>\n",
       "    </tr>\n",
       "    <tr>\n",
       "      <th>2017-10-31</th>\n",
       "      <td>54.0</td>\n",
       "      <td>44.0</td>\n",
       "      <td>0.00</td>\n",
       "      <td>2727</td>\n",
       "      <td>10</td>\n",
       "      <td>1</td>\n",
       "      <td>31</td>\n",
       "    </tr>\n",
       "  </tbody>\n",
       "</table></div>"
      ],
      "text/plain": [
       "            HIGH_T  LOW_T  PRECIP  BB_COUNT  MONTH  DAY_OF_WEEK  DAY\n",
       "Date                                                                \n",
       "2017-04-01    46.0   37.0    0.00       606      4            5    1\n",
       "2017-04-02    62.1   41.0    0.00      2021      4            6    2\n",
       "2017-04-03    63.0   50.0    0.03      2470      4            0    3\n",
       "2017-04-04    51.1   46.0    1.18       723      4            1    4\n",
       "2017-04-05    63.0   46.0    0.00      2807      4            2    5\n",
       "...            ...    ...     ...       ...    ...          ...  ...\n",
       "2017-10-27    62.1   48.0    0.00      3150     10            4   27\n",
       "2017-10-28    68.0   55.9    0.00      2245     10            5   28\n",
       "2017-10-29    64.9   61.0    3.03       183     10            6   29\n",
       "2017-10-30    55.0   46.0    0.25      1428     10            0   30\n",
       "2017-10-31    54.0   44.0    0.00      2727     10            1   31\n",
       "\n",
       "[214 rows x 7 columns]"
      ]
     },
     "execution_count": 4,
     "metadata": {},
     "output_type": "execute_result"
    }
   ],
   "source": [
    "ds = df.index.to_series()\n",
    "df['MONTH'] = ds.dt.month\n",
    "df['DAY_OF_WEEK'] = ds.dt.dayofweek\n",
    "df['DAY'] = ds.dt.day\n",
    "df"
   ]
  },
  {
   "cell_type": "markdown",
   "id": "7a0d64c5-1f75-4903-b612-d75b0548c9fb",
   "metadata": {},
   "source": [
    "We will not use the Date variable as a regressor since it contains an absolute date value but we don't need to do anything special to drop Date as it is already consumed as the index of the pandas DataFrame. So it will not be available to us in the $X$ matrix.\n",
    "\n",
    "Let's create the training and testing data sets."
   ]
  },
  {
   "cell_type": "code",
   "execution_count": 6,
   "id": "018ba104-1149-43b3-88b1-cbf29dcd23a0",
   "metadata": {},
   "outputs": [
    {
     "name": "stdout",
     "output_type": "stream",
     "text": [
      "Training data set length=179\n",
      "Testing data set length=35\n"
     ]
    }
   ],
   "source": [
    "mask = np.random.rand(len(df)) < 0.8   # pick 80% of random observation for training and the rest leave for testing\n",
    "df_train = df[mask]\n",
    "df_test = df[~mask]\n",
    "\n",
    "print('Training data set length='+str(len(df_train)))\n",
    "print('Testing data set length='+str(len(df_test)))"
   ]
  },
  {
   "cell_type": "markdown",
   "id": "0bc39dbc-db3b-47ee-a10a-e34ca039f8eb",
   "metadata": {},
   "source": [
    "Setup the regression expression in `patsy` notation. We are telling patsy that `BB_COUNT` is our dependent variable and it depends on the regression variables: `DAY`, `DAY_OF_WEEK`, `MONTH`, `HIGH_T`, `LOW_T` and `PRECIP`."
   ]
  },
  {
   "cell_type": "code",
   "execution_count": 7,
   "id": "5abd00bf-5c12-4311-bdd2-51fedd06848f",
   "metadata": {},
   "outputs": [],
   "source": [
    "expr = \"\"\"BB_COUNT ~ DAY  + DAY_OF_WEEK + MONTH + HIGH_T + LOW_T + PRECIP\"\"\""
   ]
  },
  {
   "cell_type": "markdown",
   "id": "a20dbb97-0068-49a4-9ed0-ffa47a637657",
   "metadata": {},
   "source": [
    "Set up the $X$ and $y$ matrices for the training and testing data sets. $patsy$ makes this really simple:"
   ]
  },
  {
   "cell_type": "code",
   "execution_count": 8,
   "id": "431f2d47-d71c-4131-8a31-78ddd747447e",
   "metadata": {},
   "outputs": [],
   "source": [
    "y_train, X_train = dmatrices(expr, df_train, return_type='dataframe')\n",
    "y_test, X_test = dmatrices(expr, df_test, return_type='dataframe')"
   ]
  },
  {
   "cell_type": "markdown",
   "id": "05cc1755-9fb3-4f1a-a73a-59b52825addd",
   "metadata": {},
   "source": [
    "Using the `statsmodels` GLM class, train the Poisson regression model on the training data set."
   ]
  },
  {
   "cell_type": "code",
   "execution_count": 11,
   "id": "e1304b05-1f55-419b-bb92-c3f59be5c015",
   "metadata": {},
   "outputs": [
    {
     "data": {
      "text/html": [
       "<table class=\"simpletable\">\n",
       "<caption>Generalized Linear Model Regression Results</caption>\n",
       "<tr>\n",
       "  <th>Dep. Variable:</th>       <td>BB_COUNT</td>     <th>  No. Observations:  </th>  <td>   179</td> \n",
       "</tr>\n",
       "<tr>\n",
       "  <th>Model:</th>                  <td>GLM</td>       <th>  Df Residuals:      </th>  <td>   172</td> \n",
       "</tr>\n",
       "<tr>\n",
       "  <th>Model Family:</th>         <td>Poisson</td>     <th>  Df Model:          </th>  <td>     6</td> \n",
       "</tr>\n",
       "<tr>\n",
       "  <th>Link Function:</th>          <td>Log</td>       <th>  Scale:             </th> <td>  1.0000</td>\n",
       "</tr>\n",
       "<tr>\n",
       "  <th>Method:</th>                <td>IRLS</td>       <th>  Log-Likelihood:    </th> <td> -13057.</td>\n",
       "</tr>\n",
       "<tr>\n",
       "  <th>Date:</th>            <td>Sun, 06 Mar 2022</td> <th>  Deviance:          </th> <td>  24390.</td>\n",
       "</tr>\n",
       "<tr>\n",
       "  <th>Time:</th>                <td>22:03:12</td>     <th>  Pearson chi2:      </th> <td>2.41e+04</td>\n",
       "</tr>\n",
       "<tr>\n",
       "  <th>No. Iterations:</th>          <td>6</td>        <th>  Pseudo R-squ. (CS):</th>  <td> 1.000</td> \n",
       "</tr>\n",
       "<tr>\n",
       "  <th>Covariance Type:</th>     <td>nonrobust</td>    <th>                     </th>     <td> </td>   \n",
       "</tr>\n",
       "</table>\n",
       "<table class=\"simpletable\">\n",
       "<tr>\n",
       "       <td></td>          <th>coef</th>     <th>std err</th>      <th>z</th>      <th>P>|z|</th>  <th>[0.025</th>    <th>0.975]</th>  \n",
       "</tr>\n",
       "<tr>\n",
       "  <th>Intercept</th>   <td>    7.0299</td> <td>    0.012</td> <td>  575.988</td> <td> 0.000</td> <td>    7.006</td> <td>    7.054</td>\n",
       "</tr>\n",
       "<tr>\n",
       "  <th>DAY</th>         <td>    0.0003</td> <td>    0.000</td> <td>    1.897</td> <td> 0.058</td> <td>-1.06e-05</td> <td>    0.001</td>\n",
       "</tr>\n",
       "<tr>\n",
       "  <th>DAY_OF_WEEK</th> <td>   -0.0215</td> <td>    0.001</td> <td>  -29.814</td> <td> 0.000</td> <td>   -0.023</td> <td>   -0.020</td>\n",
       "</tr>\n",
       "<tr>\n",
       "  <th>MONTH</th>       <td>    0.0073</td> <td>    0.001</td> <td>    9.472</td> <td> 0.000</td> <td>    0.006</td> <td>    0.009</td>\n",
       "</tr>\n",
       "<tr>\n",
       "  <th>HIGH_T</th>      <td>    0.0244</td> <td>    0.000</td> <td>   74.370</td> <td> 0.000</td> <td>    0.024</td> <td>    0.025</td>\n",
       "</tr>\n",
       "<tr>\n",
       "  <th>LOW_T</th>       <td>   -0.0144</td> <td>    0.000</td> <td>  -40.352</td> <td> 0.000</td> <td>   -0.015</td> <td>   -0.014</td>\n",
       "</tr>\n",
       "<tr>\n",
       "  <th>PRECIP</th>      <td>   -0.7900</td> <td>    0.007</td> <td> -105.638</td> <td> 0.000</td> <td>   -0.805</td> <td>   -0.775</td>\n",
       "</tr>\n",
       "</table>"
      ],
      "text/plain": [
       "<class 'statsmodels.iolib.summary.Summary'>\n",
       "\"\"\"\n",
       "                 Generalized Linear Model Regression Results                  \n",
       "==============================================================================\n",
       "Dep. Variable:               BB_COUNT   No. Observations:                  179\n",
       "Model:                            GLM   Df Residuals:                      172\n",
       "Model Family:                 Poisson   Df Model:                            6\n",
       "Link Function:                    Log   Scale:                          1.0000\n",
       "Method:                          IRLS   Log-Likelihood:                -13057.\n",
       "Date:                Sun, 06 Mar 2022   Deviance:                       24390.\n",
       "Time:                        22:03:12   Pearson chi2:                 2.41e+04\n",
       "No. Iterations:                     6   Pseudo R-squ. (CS):              1.000\n",
       "Covariance Type:            nonrobust                                         \n",
       "===============================================================================\n",
       "                  coef    std err          z      P>|z|      [0.025      0.975]\n",
       "-------------------------------------------------------------------------------\n",
       "Intercept       7.0299      0.012    575.988      0.000       7.006       7.054\n",
       "DAY             0.0003      0.000      1.897      0.058   -1.06e-05       0.001\n",
       "DAY_OF_WEEK    -0.0215      0.001    -29.814      0.000      -0.023      -0.020\n",
       "MONTH           0.0073      0.001      9.472      0.000       0.006       0.009\n",
       "HIGH_T          0.0244      0.000     74.370      0.000       0.024       0.025\n",
       "LOW_T          -0.0144      0.000    -40.352      0.000      -0.015      -0.014\n",
       "PRECIP         -0.7900      0.007   -105.638      0.000      -0.805      -0.775\n",
       "===============================================================================\n",
       "\"\"\""
      ]
     },
     "execution_count": 11,
     "metadata": {},
     "output_type": "execute_result"
    }
   ],
   "source": [
    "poisson_training_results = sm.GLM(y_train, X_train, family=sm.families.Poisson()).fit()\n",
    "poisson_training_results.summary()"
   ]
  },
  {
   "cell_type": "markdown",
   "id": "a69bd376-8b32-4086-b5f7-d4380af0613b",
   "metadata": {},
   "source": [
    "So how well did our model do? Let's make some **predictions** on the test data set."
   ]
  },
  {
   "cell_type": "code",
   "execution_count": 14,
   "id": "8c5eae56-5d87-42b4-8651-e396ddf37fd1",
   "metadata": {},
   "outputs": [
    {
     "name": "stdout",
     "output_type": "stream",
     "text": [
      "                   mean    mean_se  mean_ci_lower  mean_ci_upper\n",
      "Date                                                            \n",
      "2017-04-02  2578.674724  14.033254    2551.316217    2606.326605\n",
      "2017-04-22  1782.317817   8.318925    1766.087375    1798.697419\n",
      "2017-05-09  2550.691919   8.843777    2533.417198    2568.084432\n",
      "2017-05-11  2314.258844   7.333761    2299.929483    2328.677482\n",
      "2017-05-20  2236.844492   7.499116    2222.194679    2251.590885\n",
      "2017-05-24  2464.735287   7.031639    2450.991987    2478.555649\n",
      "2017-06-01  3040.504644   9.613935    3021.719946    3059.406119\n",
      "2017-06-05  2502.768327   9.811334    2483.612153    2522.072253\n",
      "2017-06-08  2490.256288   6.906098    2476.757303    2503.828845\n",
      "2017-06-11  3266.816669  12.331688    3242.736195    3291.075964\n",
      "2017-06-17   804.204150   8.034652     788.609702     820.106973\n",
      "2017-07-01  2503.446403  10.044847    2483.836075    2523.211558\n",
      "2017-07-09  2792.845577   9.265221    2774.744988    2811.064242\n",
      "2017-07-14  1759.857867   6.409445    1747.340316    1772.465091\n",
      "2017-07-16  3038.984176   9.172731    3021.059026    3057.015682\n",
      "2017-07-22  2047.417628  10.709230    2026.535146    2068.515293\n",
      "2017-07-24  1453.222086   8.367057    1436.915138    1469.714096\n",
      "2017-08-03  3340.421317  10.503575    3319.897994    3361.071513\n",
      "2017-08-09  3358.832875   8.388629    3342.431640    3375.314591\n",
      "2017-08-24  3003.005373   6.282933    2990.716266    3015.344978\n",
      "2017-08-31  3252.983628  10.705765    3232.068242    3274.034362\n",
      "2017-09-09  2654.638645   8.885783    2637.279834    2672.111714\n",
      "2017-09-10  2710.263339   9.684160    2691.349043    2729.310561\n",
      "2017-09-12  3308.157898  10.007786    3288.601034    3327.831063\n",
      "2017-09-13  3211.377713   8.586386    3194.592724    3228.250894\n",
      "2017-09-18  2659.772911  10.967843    2638.362970    2681.356592\n",
      "2017-09-20  2805.311280   8.467618    2788.764050    2821.956694\n",
      "2017-09-29  2586.860985   9.392648    2568.517083    2605.335896\n",
      "2017-10-01  2659.376136  13.719883    2632.621154    2686.403025\n",
      "2017-10-03  2888.782898  11.591519    2866.153041    2911.591431\n",
      "2017-10-06  2977.514137  10.118419    2957.748299    2997.412064\n",
      "2017-10-10  3253.351681  10.430416    3232.972537    3273.859285\n",
      "2017-10-12  2248.649277   8.506866    2232.037787    2265.384395\n",
      "2017-10-18  3228.719299  15.478994    3198.523118    3259.200553\n",
      "2017-10-26  2146.860902  10.578833    2126.226573    2167.695480\n"
     ]
    }
   ],
   "source": [
    "poisson_predictions = poisson_training_results.get_prediction(X_test)\n",
    "#summary_frame() returns a pandas DataFrame\n",
    "predictions_summary_frame = poisson_predictions.summary_frame()\n",
    "print(predictions_summary_frame)"
   ]
  },
  {
   "cell_type": "markdown",
   "id": "4719ef07-4a69-4b2c-9ca8-a9f6c1c6649f",
   "metadata": {},
   "source": [
    "Plot the predicted counts versus the actual counts for the test data:"
   ]
  },
  {
   "cell_type": "code",
   "execution_count": 15,
   "id": "a5506583-ff4d-450a-a4e2-ced22e51636f",
   "metadata": {},
   "outputs": [
    {
     "data": {
      "image/png": "[encoded data removed]",
      "text/plain": [
       "<Figure size 432x288 with 1 Axes>"
      ]
     },
     "metadata": {
      "needs_background": "light"
     },
     "output_type": "display_data"
    }
   ],
   "source": [
    "predicted_counts=predictions_summary_frame['mean']\n",
    "actual_counts = y_test['BB_COUNT']\n",
    "\n",
    "fig = plt.figure()\n",
    "fig.suptitle('Predicted versus actual bicyclist counts on the Brooklyn bridge')\n",
    "predicted, = plt.plot(X_test.index, predicted_counts, 'go-', label='Predicted counts')\n",
    "actual, = plt.plot(X_test.index, actual_counts, 'ro-', label='Actual counts')\n",
    "plt.legend(handles=[predicted, actual])\n",
    "plt.show()"
   ]
  },
  {
   "cell_type": "markdown",
   "id": "a01a31b3-ce41-4dc8-b2f7-04c171d5581b",
   "metadata": {},
   "source": [
    "The model seems to be more or less tracking the trend in the actual counts although in many cases its predictions are way off the actual value.\n",
    "\n",
    "Let's also plot Actual versus Predicted counts."
   ]
  },
  {
   "cell_type": "code",
   "execution_count": 52,
   "id": "5cc18106-032a-42a9-ab03-55f27154c632",
   "metadata": {},
   "outputs": [
    {
     "data": {
      "image/png": "[encoded data removed]",
      "text/plain": [
       "<Figure size 432x360 with 1 Axes>"
      ]
     },
     "metadata": {
      "needs_background": "light"
     },
     "output_type": "display_data"
    }
   ],
   "source": [
    "fig = plt.figure(figsize=(6,5))\n",
    "fig.suptitle('Scatter plot of Actual versus Predicted counts')\n",
    "plt.scatter(x=predicted_counts, y=actual_counts, marker='o', alpha=0.5)\n",
    "plt.xlabel('Predicted counts')\n",
    "plt.ylabel('Actual counts')\n",
    "\n",
    "\n",
    "plt.axline([0, 0], [1, 1]) # add a 45-degree line for reference\n",
    "plt.axis('equal')\n",
    "plt.set_ylim=(0, 5000)\n",
    "plt.set_xlim=(0, 5000)\n",
    "\n",
    "plt.show()"
   ]
  },
  {
   "cell_type": "code",
   "execution_count": null,
   "id": "29f93bbf-4683-42ef-ab2c-d68712ad4867",
   "metadata": {},
   "outputs": [],
   "source": []
  }
 ],
 "metadata": {
  "kernelspec": {
   "display_name": "Python 3 (ipykernel)",
   "language": "python",
   "name": "python3"
  },
  "language_info": {
   "codemirror_mode": {
    "name": "ipython",
    "version": 3
   },
   "file_extension": ".py",
   "mimetype": "text/x-python",
   "name": "python",
   "nbconvert_exporter": "python",
   "pygments_lexer": "ipython3",
   "version": "3.9.10"
  }
 },
 "nbformat": 4,
 "nbformat_minor": 5
}
